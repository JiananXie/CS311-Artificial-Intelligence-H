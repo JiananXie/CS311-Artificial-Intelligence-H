{
 "cells": [
  {
   "cell_type": "code",
   "execution_count": 53,
   "metadata": {
    "pycharm": {
     "name": "#%%\n"
    }
   },
   "outputs": [
    {
     "name": "stdout",
     "output_type": "stream",
     "text": [
      "The autoreload extension is already loaded. To reload it, use:\n",
      "  %reload_ext autoreload\n"
     ]
    }
   ],
   "source": [
    "%load_ext autoreload\n",
    "%autoreload 2\n",
    "import random\n",
    "import numpy as np\n",
    "import matplotlib.pyplot as plt\n",
    "from utils import plot_NQueens, plot_evolution"
   ]
  },
  {
   "cell_type": "markdown",
   "metadata": {
    "pycharm": {
     "name": "#%% md\n"
    }
   },
   "source": [
    "# Local Search: Genetic Algorithm\n",
    "\n",
    "## 1.Genrating Phrases\n",
    "\n",
    "In this section we consider a toy problem: generating a target phrases (e.g. \"genetic algorithm\") from an initial polupation of random strings. Assume the length of the target is known.\n",
    "\n",
    "Problem Formulation: \n",
    "\n",
    "1. Direct Representation: just strings.\n",
    "2. Exponential Search Space: $m^l$ where $m$ is the size of the alphabet (set of characters in our interest) and $l$ is the length of the string.\n",
    "\n",
    "Now that we want to solve it with GA:\n",
    "1. Chromesome: directly use the string itself.\n",
    "2. Fitness: how match/close an individual is to the target.\n",
    "3. Mating: combine two strings in someway to generate a new one.\n",
    "\n",
    "The following cells will walk you through this problem to show the basic idea of GA"
   ]
  },
  {
   "cell_type": "code",
   "execution_count": 59,
   "metadata": {
    "pycharm": {
     "name": "#%%\n"
    }
   },
   "outputs": [
    {
     "data": {
      "text/plain": [
       "['NywZfCPLTUeyODIhm',\n",
       " 'oKrdYuVXrLtAiPzEI',\n",
       " 'sTRfdxArhPeMUNvLj',\n",
       " 'nPNKAYLrKieRJqZkM',\n",
       " 'sYgZdHMMGCZTecPdP',\n",
       " 'oIdeZWCxQOI cGPDN',\n",
       " 'JKuafQYLWNUWe ES ',\n",
       " 'UrjvwbCWomFmKDBha',\n",
       " 'zNoCDZAmdaxuUcmvg',\n",
       " 'kxXwKYEojWtwTzx M']"
      ]
     },
     "execution_count": 59,
     "metadata": {},
     "output_type": "execute_result"
    }
   ],
   "source": [
    "# setting up the problem\n",
    "target = 'Genetic Algorithm'\n",
    "u_case = [chr(x) for x in range(65, 91)]\n",
    "l_case = [chr(x) for x in range(97, 123)]\n",
    "gene_pool = u_case + l_case + [' '] # all English chracters and white space\n",
    "\n",
    "def init_population(pop_size, gene_pool, state_length):\n",
    "    \"\"\"\n",
    "    Randomly initialize a population for genetic algorithm\n",
    "        pop_size  :  Number of individuals in population\n",
    "        gene_pool   :  List of possible values for individuals\n",
    "        state_length:  The length of each individual\n",
    "    \"\"\"\n",
    "\n",
    "    population = []\n",
    "    for _ in range(pop_size):\n",
    "        new_individual = \"\".join(random.choices(gene_pool, k=state_length))\n",
    "        population.append(new_individual)\n",
    "\n",
    "    return population\n",
    "\n",
    "# test\n",
    "init_pop = init_population(10, gene_pool, len(target))\n",
    "init_pop"
   ]
  },
  {
   "cell_type": "code",
   "execution_count": 60,
   "metadata": {
    "pycharm": {
     "name": "#%%\n"
    }
   },
   "outputs": [
    {
     "data": {
      "text/plain": [
       "0.11764705882352941"
      ]
     },
     "execution_count": 60,
     "metadata": {},
     "output_type": "execute_result"
    }
   ],
   "source": [
    "def fitness_fn(sample):\n",
    "    cnt = 0\n",
    "    for i in range(len(target)):\n",
    "        if sample[i] == target[i]:\n",
    "            cnt += 1\n",
    "    return cnt/len(target)\n",
    "# test\n",
    "fitness_fn(init_pop[0])"
   ]
  },
  {
   "cell_type": "code",
   "execution_count": 61,
   "metadata": {
    "pycharm": {
     "name": "#%%\n"
    }
   },
   "outputs": [
    {
     "data": {
      "text/plain": [
       "['NywZfCPLTUeyODIhm', 'oIdeZWCxQOI cGPDN']"
      ]
     },
     "execution_count": 61,
     "metadata": {},
     "output_type": "execute_result"
    }
   ],
   "source": [
    "def select(r, population, fitness_fn):\n",
    "    selection = []\n",
    "    sorted_pop = sorted(population, key= lambda p:fitness_fn(p), reverse= True)\n",
    "    for i in range(r):\n",
    "        selection.append(sorted_pop[i])\n",
    "    return selection\n",
    "# test\n",
    "parents = select(2, init_pop, fitness_fn)\n",
    "parents"
   ]
  },
  {
   "cell_type": "code",
   "execution_count": 49,
   "metadata": {
    "pycharm": {
     "name": "#%%\n"
    }
   },
   "outputs": [
    {
     "data": {
      "text/plain": [
       "'VjBfyuQ znbJypjXp'"
      ]
     },
     "execution_count": 49,
     "metadata": {},
     "output_type": "execute_result"
    }
   ],
   "source": [
    "def recombine(x, y):\n",
    "    n = len(x)\n",
    "    pos = random.randint(0,n-1)\n",
    "    child = x[0:pos+1] + y[pos+1: n]\n",
    "    return child\n",
    "\n",
    "def mutate(x, gene_pool, pmut):\n",
    "    \"\"\"\n",
    "    apply mutation to *x* by randomly replacing one of its gene from *gene_pool*\n",
    "    \"\"\"\n",
    "    if random.uniform(0, 1) >= pmut:\n",
    "        return x\n",
    "\n",
    "    n = len(x)\n",
    "    g = len(gene_pool)\n",
    "    c = random.randrange(0, n)\n",
    "    r = random.randrange(0, g)\n",
    "\n",
    "    new_gene = gene_pool[r]\n",
    "    return x[:c] + new_gene + x[c + 1:]\n",
    "\n",
    "# test\n",
    "child = mutate(recombine(*parents), gene_pool, 0.1)\n",
    "child"
   ]
  },
  {
   "cell_type": "code",
   "execution_count": 62,
   "metadata": {
    "pycharm": {
     "name": "#%%\n"
    }
   },
   "outputs": [],
   "source": [
    "# now refactor things into a *Problem* abstraction\n",
    "# you can directly reuse what you have implemented above\n",
    "from abc import ABC, abstractmethod\n",
    "\n",
    "class GAProblem(ABC):\n",
    "    @abstractmethod\n",
    "    def init_population(self, pop_size): pass\n",
    "\n",
    "    @abstractmethod\n",
    "    def fitness(self, sample): pass\n",
    "\n",
    "    @abstractmethod\n",
    "    def reproduce(self, population): pass\n",
    "\n",
    "    @abstractmethod\n",
    "    def replacement(self, old, new): pass\n",
    "\n",
    "class PhraseGeneration(GAProblem):\n",
    "    def __init__(self, target, alphabet):\n",
    "        self.target = target\n",
    "        self.alphabet = alphabet\n",
    "\n",
    "    def init_population(self, pop_size):\n",
    "        # raise NotImplementedError()\n",
    "        return init_population(pop_size, self.alphabet, len(self.target))\n",
    "\n",
    "    def fitness(self, sample):\n",
    "            cnt = 0\n",
    "            for i in range(len(self.target)):\n",
    "                if sample[i] == self.target[i]:\n",
    "                    cnt += 1\n",
    "            return cnt/len(target)\n",
    "    \n",
    "    def select(r, population, fitness_fn):\n",
    "        selection = []\n",
    "        sorted_pop = sorted(population, key= lambda p:fitness_fn(p), reverse= True)\n",
    "        for i in range(r):\n",
    "            selection.append(sorted_pop[i])\n",
    "        return selection\n",
    "    \n",
    "    def reproduce(self, population, mutation_rate):\n",
    "\n",
    "        def recombine(x, y):\n",
    "           n = len(x)\n",
    "           pos = random.randint(0,n-1)\n",
    "           child = x[0:pos+1] + y[pos+1: n]\n",
    "           return child\n",
    "\n",
    "        def mutate(x, gene_pool, pmut):\n",
    "            if random.uniform(0, 1) >= pmut:\n",
    "                 return x\n",
    "            n = len(x)\n",
    "            g = len(gene_pool)\n",
    "            c = random.randrange(0, n)\n",
    "            r = random.randrange(0, g)\n",
    "            new_gene = gene_pool[r]\n",
    "            return x[:c] + new_gene + x[c + 1:]\n",
    "        \n",
    "        # parents = self.select(2, population, fitness_fn)\n",
    "        new_pop = []\n",
    "        for i in range(len(population)):\n",
    "            for j in range(i+1, len(population)):\n",
    "                new_pop.append(mutate(recombine(population[i], population[j]), self.alphabet, mutation_rate))\n",
    "        return new_pop\n",
    "        # return mutate(recombine(*parents), self.alphabet, mutation_rate)\n",
    "    \n",
    "    def replacement(self, old, new):\n",
    "        # field = list(range(len(old)))\n",
    "        # worst_gen = min(field, key=lambda i:fitness_fn(old[i]))\n",
    "        # new = old[0:worst_gen] + [new] + old[worst_gen+1: len(old)]\n",
    "        \n",
    "        field = old + new\n",
    "        new = select(len(old), field, fitness_fn)\n",
    "        return new\n",
    "\n",
    "def genetic_algorithm(\n",
    "        problem: GAProblem, \n",
    "        ngen, n_init_size, mutation_rate, \n",
    "        log_intervel=100\n",
    "    ):\n",
    "\n",
    "    population = problem.init_population(n_init_size)\n",
    "    best = max(population, key=problem.fitness)\n",
    "    history = [(0, list(map(problem.fitness, population)))]\n",
    "\n",
    "    for gen in range(ngen):\n",
    "        next_gen    = problem.reproduce(population, mutation_rate)\n",
    "        population  = problem.replacement(population, next_gen)\n",
    "\n",
    "        if gen % log_intervel == 0:\n",
    "            current_best = max(population, key=problem.fitness)\n",
    "            if problem.fitness(current_best) > problem.fitness(best): best = current_best\n",
    "            print(f\"Generation: {gen}/{ngen},\\tBest: {best},\\tFitness={problem.fitness(best)}\")         \n",
    "            history.append((gen, list(map(problem.fitness, population))))\n",
    "    \n",
    "    history.append((ngen-1, list(map(problem.fitness, population))))\n",
    "    return best, history"
   ]
  },
  {
   "cell_type": "code",
   "execution_count": 63,
   "metadata": {
    "pycharm": {
     "name": "#%%\n"
    }
   },
   "outputs": [
    {
     "name": "stdout",
     "output_type": "stream",
     "text": [
      "Generation: 0/1200,\tBest: tfE15iO50R8DgiuUeS3gfMr1eD7Pq,\tFitness=0.13793103448275862\n",
      "Generation: 100/1200,\tBest: Genetic Algorithm by 12110714,\tFitness=1.0\n",
      "Generation: 200/1200,\tBest: Genetic Algorithm by 12110714,\tFitness=1.0\n",
      "Generation: 300/1200,\tBest: Genetic Algorithm by 12110714,\tFitness=1.0\n",
      "Generation: 400/1200,\tBest: Genetic Algorithm by 12110714,\tFitness=1.0\n",
      "Generation: 500/1200,\tBest: Genetic Algorithm by 12110714,\tFitness=1.0\n",
      "Generation: 600/1200,\tBest: Genetic Algorithm by 12110714,\tFitness=1.0\n",
      "Generation: 700/1200,\tBest: Genetic Algorithm by 12110714,\tFitness=1.0\n",
      "Generation: 800/1200,\tBest: Genetic Algorithm by 12110714,\tFitness=1.0\n",
      "Generation: 900/1200,\tBest: Genetic Algorithm by 12110714,\tFitness=1.0\n",
      "Generation: 1000/1200,\tBest: Genetic Algorithm by 12110714,\tFitness=1.0\n",
      "Generation: 1100/1200,\tBest: Genetic Algorithm by 12110714,\tFitness=1.0\n"
     ]
    },
    {
     "data": {
      "text/plain": [
       "'Genetic Algorithm by 12110714'"
      ]
     },
     "execution_count": 63,
     "metadata": {},
     "output_type": "execute_result"
    }
   ],
   "source": [
    "# now set up the parameters\n",
    "ngen = 1200\n",
    "max_population = 120\n",
    "mutation_rate = 0.08\n",
    "\n",
    "sid = 12110714 #TODO:  replace this with your own sid\n",
    "target = f\"Genetic Algorithm by {sid}\" \n",
    "u_case = [chr(x) for x in range(65, 91)]\n",
    "l_case = [chr(x) for x in range(97, 123)]\n",
    "number = [chr(x) for x in range(48, 58)]\n",
    "alphabet = u_case + l_case + number + [' '] # TODO: fix this: what is the search space now?\n",
    "problem = PhraseGeneration(target, alphabet)\n",
    "\n",
    "# and run it\n",
    "solution, history = genetic_algorithm(problem, ngen, max_population, mutation_rate)\n",
    "solution"
   ]
  },
  {
   "cell_type": "code",
   "execution_count": null,
   "metadata": {
    "pycharm": {
     "name": "#%%\n"
    }
   },
   "outputs": [],
   "source": [
    "# visualize the evolution of the polulation\n",
    "bins = np.linspace(0, max_population,max_population+1)\n",
    "plot_evolution(history, bins)\n",
    "bins"
   ]
  },
  {
   "cell_type": "markdown",
   "metadata": {
    "pycharm": {
     "name": "#%% md\n"
    }
   },
   "source": [
    "## 2. N-Queens Problem\n",
    "\n",
    "It is possible to solve the N-Queens problem with slight modifications.\n",
    "\n",
    "For the problem:\n",
    "\n",
    "1. Direct Representation: placement of queens.\n",
    "2. Search Space: $n^n$, if we don't use any constraints.\n",
    "\n",
    "To use GA:\n",
    "\n",
    "Actually a new fitness function is the minimum modification you need for this problem.\n",
    "\n",
    "Others are alomost the same as the previous problem."
   ]
  },
  {
   "cell_type": "code",
   "execution_count": 39,
   "metadata": {
    "pycharm": {
     "name": "#%%\n"
    }
   },
   "outputs": [],
   "source": [
    "class NQueensProblem(GAProblem):\n",
    "\n",
    "    def __init__(self, n):\n",
    "        self.n = n\n",
    "        self.max_fitness =  n*(n-1)//2 # max number if non-attacking pairs\n",
    "\n",
    "    def init_population(self, pop_size):\n",
    "        population = []\n",
    "        for _ in range(pop_size):\n",
    "            new_individual = \"\".join(random.choices(gene_pool, k=self.n))\n",
    "            population.append(new_individual)\n",
    "        return population\n",
    "    \n",
    "    def fitness(self, queens):\n",
    "        cnt = self.max_fitness\n",
    "        for i in range(self.n):\n",
    "            for j in range(i+1, self.n):\n",
    "                if queens[i] == queens[j] or abs(i-j) == abs(int(queens[i]) - int(queens[j])):\n",
    "                    cnt -= 1\n",
    "        return cnt / self.max_fitness\n",
    "\n",
    "    def reproduce(self, population, mutation_rate):\n",
    "\n",
    "        def recombine(x, y):\n",
    "           n = len(x)\n",
    "           pos = random.randint(0,n-1)\n",
    "           child = x[0:pos+1] + y[pos+1: n]\n",
    "           return child\n",
    "\n",
    "        def mutate(x, gene_pool, pmut):\n",
    "            if random.uniform(0, 1) >= pmut:\n",
    "                 return x\n",
    "            n = len(x)\n",
    "            g = len(gene_pool)\n",
    "            c = random.randrange(0, n)\n",
    "            r = random.randrange(0, g)\n",
    "            new_gene = gene_pool[r]\n",
    "            return x[:c] + new_gene + x[c + 1:]\n",
    "        \n",
    "        new_pop = []\n",
    "        for i in range(len(population)):\n",
    "            for j in range(i+1, len(population)):\n",
    "                new_pop.append(mutate(recombine(population[i], population[j]), gene_pool, mutation_rate))\n",
    "        return new_pop\n",
    "\n",
    "    def replacement(self, old, new):\n",
    "       \n",
    "        def select(r, population, fitness_fn):\n",
    "            selection = []\n",
    "            sorted_pop = sorted(population, key= lambda p:self.fitness(p), reverse= True)\n",
    "            for i in range(r):\n",
    "                 selection.append(sorted_pop[i])\n",
    "            return selection\n",
    "        \n",
    "        field = old + new\n",
    "        new = select(len(old), field, self.fitness) \n",
    "        return new\n",
    "\n",
    "    def __repr__(self):\n",
    "        return f\"{self.n}-Queens Problem\""
   ]
  },
  {
   "cell_type": "code",
   "execution_count": 64,
   "metadata": {
    "pycharm": {
     "name": "#%%\n"
    }
   },
   "outputs": [
    {
     "name": "stdout",
     "output_type": "stream",
     "text": [
      "Generation: 0/1000,\tBest: 26175364,\tFitness=0.9642857142857143\n",
      "Generation: 100/1000,\tBest: 36271405,\tFitness=1.0\n",
      "Generation: 200/1000,\tBest: 36271405,\tFitness=1.0\n",
      "Generation: 300/1000,\tBest: 36271405,\tFitness=1.0\n",
      "Generation: 400/1000,\tBest: 36271405,\tFitness=1.0\n",
      "Generation: 500/1000,\tBest: 36271405,\tFitness=1.0\n",
      "Generation: 600/1000,\tBest: 36271405,\tFitness=1.0\n",
      "Generation: 700/1000,\tBest: 36271405,\tFitness=1.0\n",
      "Generation: 800/1000,\tBest: 36271405,\tFitness=1.0\n",
      "Generation: 900/1000,\tBest: 36271405,\tFitness=1.0\n"
     ]
    }
   ],
   "source": [
    "from utils import plot_NQueens\n",
    "ngen = 1000\n",
    "init_size = 120\n",
    "mutation_rate = 0.08\n",
    "n = 8\n",
    "gene_pool = [chr(x) for x in range(48, 48+n)]\n",
    "problem = NQueensProblem(n)\n",
    "solution, history = genetic_algorithm(problem, ngen, init_size, mutation_rate)"
   ]
  },
  {
   "cell_type": "code",
   "execution_count": 52,
   "metadata": {
    "pycharm": {
     "name": "#%%\n"
    }
   },
   "outputs": [
    {
     "name": "stderr",
     "output_type": "stream",
     "text": [
      "f:\\Artificial Intelligence\\Lab\\Practice7\\utils.py:30: UserWarning: This figure includes Axes that are not compatible with tight_layout, so results might be incorrect.\n",
      "  fig.tight_layout()\n"
     ]
    },
    {
     "data": {
      "image/png": "[encoded data removed]",
      "text/plain": [
       "<Figure size 700x700 with 9 Axes>"
      ]
     },
     "metadata": {},
     "output_type": "display_data"
    }
   ],
   "source": [
    "# Example of how to use this function\n",
    "# plot_NQueens([4, 2, 0, 6, 1, 7, 5, 3])\n",
    "# replace the parameter with your own results\n",
    "plot_NQueens(list(map(lambda x:int(x), solution)))"
   ]
  },
  {
   "cell_type": "code",
   "execution_count": null,
   "metadata": {
    "pycharm": {
     "name": "#%%\n"
    }
   },
   "outputs": [],
   "source": [
    "# Visualize the evolution of the polulation\n",
    "bins = np.linspace(0, problem.max_fitness, problem.max_fitness)\n",
    "plot_evolution(history, bins)"
   ]
  }
 ],
 "metadata": {
  "interpreter": {
   "hash": "fb94abd67aa002aa187ead1d4120a8ec4bfee3e4c9494aaf1e01cee1e01ca26c"
  },
  "kernelspec": {
   "display_name": "Python 3",
   "language": "python",
   "name": "python3"
  },
  "language_info": {
   "codemirror_mode": {
    "name": "ipython",
    "version": 3
   },
   "file_extension": ".py",
   "mimetype": "text/x-python",
   "name": "python",
   "nbconvert_exporter": "python",
   "pygments_lexer": "ipython3",
   "version": "3.10.6"
  }
 },
 "nbformat": 4,
 "nbformat_minor": 2
}
