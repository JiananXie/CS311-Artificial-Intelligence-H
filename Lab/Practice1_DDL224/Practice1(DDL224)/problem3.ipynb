{
 "cells": [
  {
   "cell_type": "markdown",
   "metadata": {},
   "source": [
    "### Snake: Simulate a snake game and print the game results.\n",
    "\n",
    "You are given a map that ‘x’ represents a rock, ‘-’represents a space, ‘#’represents the body of snake. ‘@’represent the head of the snake and a sequence of actions that ‘0,1,2,3’represent to move to up/down/left/right correspondingly for one step.\n",
    "A greedy snake starts in the map state and moves one step per unit of time according to the sequence of actions until all actions complete or fail. It will fail when the head and the stone overlap, the head goes beyond the boundary, or the head overlaps the body. \n",
    "\n",
    "#### Input\n",
    "A matrix with type char (the map). \n",
    "A sequence with type int (the motions). \n",
    "\n",
    "#### Output\n",
    "the the result of the game:\n",
    "If it failed, output the running time of the game.\n",
    "If it didn’t fail, output the final position of the head (in the form “%d, %d”)."
   ]
  },
  {
   "cell_type": "code",
   "execution_count": 4,
   "metadata": {},
   "outputs": [
    {
     "data": {
      "text/plain": [
       "'\\nExample:\\ninput:\\nmap:\\n---------\\n------x--\\n-x-------\\n---@-----\\n---##----\\n------x--\\n--x----x-\\n-x-------\\n---------\\naction:\\n0 0 3 3 0 3 3 1 1 1 1 1 3 1 1 2 2 2 2 2\\n\\noutput:\\n7 3\\n'"
      ]
     },
     "execution_count": 4,
     "metadata": {},
     "output_type": "execute_result"
    }
   ],
   "source": [
    "\"\"\"\n",
    "Example:\n",
    "input:\n",
    "map:\n",
    "---------\n",
    "------x--\n",
    "-x-------\n",
    "---@-----\n",
    "---##----\n",
    "------x--\n",
    "--x----x-\n",
    "-x-------\n",
    "---------\n",
    "action:\n",
    "0 0 3 3 0 3 3 1 1 1 1 1 3 1 1 2 2 2 2 2\n",
    "\n",
    "output:\n",
    "7 3\n",
    "\"\"\""
   ]
  },
  {
   "cell_type": "code",
   "execution_count": 5,
   "metadata": {
    "pycharm": {
     "name": "#%%\n"
    }
   },
   "outputs": [],
   "source": [
    "# add your code here\n",
    "def findsnake(map, choice):\n",
    "    snake = []\n",
    "    t=0\n",
    "    for i in range(len(map)):\n",
    "        for j in range(len(map[0])):\n",
    "            if map[i][j] == '@':\n",
    "                snake.append((i, j))\n",
    "                t=1\n",
    "                break\n",
    "        if t==1:break\n",
    "    flag = True\n",
    "    while (flag):\n",
    "        if snake[-1][0] - 1 >= 0 and choice[snake[-1][0] - 1][snake[-1][1]] == 0:\n",
    "            choice[snake[-1][0] - 1][snake[-1][1]] = 1\n",
    "            snake.append((snake[-1][0] - 1, snake[-1][1]))\n",
    "        elif snake[-1][0] + 1 < len(map) and choice[snake[-1][0] + 1][snake[-1][1]] == 0:\n",
    "            choice[snake[-1][0] + 1][snake[-1][1]] = 1\n",
    "            snake.append((snake[-1][0] + 1, snake[-1][1]))\n",
    "        elif snake[-1][1] - 1 >= 0 and choice[snake[-1][0]][snake[-1][1] - 1] == 0:\n",
    "            choice[snake[-1][0]][snake[-1][1] - 1] = 1\n",
    "            snake.append((snake[-1][0], snake[-1][1] - 1))\n",
    "        elif snake[-1][1] + 1 < len(map[0]) and choice[snake[-1][0]][snake[-1][1] + 1] == 0:\n",
    "            choice[snake[-1][0]][snake[-1][1] + 1] = 1\n",
    "            snake.append((snake[-1][0], snake[-1][1] + 1))\n",
    "        else:\n",
    "            flag = False\n",
    "    return snake\n",
    "    \n",
    "def play(map, action, snake):\n",
    "    for step in range(len(action)):\n",
    "        if action[step] == 0:\n",
    "            snake.insert(0, (snake[0][0] - 1, snake[0][1]))\n",
    "            snake.pop()\n",
    "        elif action[step] == 1:\n",
    "            snake.insert(0, (snake[0][0] + 1, snake[0][1]))\n",
    "            snake.pop()\n",
    "        elif action[step] == 2:\n",
    "            snake.insert(0, (snake[0][0], snake[0][1] - 1))\n",
    "            snake.pop()\n",
    "        elif action[step] == 3:\n",
    "            snake.insert(0, (snake[0][0], snake[0][1] + 1))\n",
    "            snake.pop()\n",
    "        if snake[0][0] < 0 or snake[0][0] >= len(map) or snake[0][1] < 0 or snake[0][1] >= len(map[0]):\n",
    "            print(step + 1)\n",
    "            return False\n",
    "        elif map[snake[0][0]][snake[0][1]] == 'x':\n",
    "            print(step + 1)\n",
    "            return False\n",
    "        else:\n",
    "            for i in range(1,len(snake)):\n",
    "                if snake[0][0] == snake[i][0] and snake[0][1] == snake[i][1]:\n",
    "                    print(step + 1)\n",
    "                    return False\n",
    "    print('%d %d' % snake[0])\n",
    "    return True"
   ]
  },
  {
   "cell_type": "code",
   "execution_count": 6,
   "metadata": {
    "pycharm": {
     "name": "#%%\n"
    }
   },
   "outputs": [
    {
     "name": "stdout",
     "output_type": "stream",
     "text": [
      "[['-', '-', '-', '-', '-', '-', '-', '-', '-', '-', '-', '-', '-'], ['-', '-', '-', '-', '-', '-', 'x', '-', '-', '-', '-', '-', '-'], ['-', 'x', '-', '-', '-', '-', '-', '-', '-', '-', '-', '-', '-'], ['-', '-', '-', '@', '-', '-', '-', '-', '-', '-', 'x', '-', '-'], ['-', '-', '-', '#', '#', '#', '-', '-', '-', '-', 'x', '-', '-'], ['-', '-', '-', '-', '-', '#', '-', '-', '-', '-', 'x', '-', '-'], ['-', '-', 'x', '-', '-', '#', '-', '-', '-', '-', '-', '-', '-'], ['-', '-', '-', '#', '#', '#', '-', '-', '-', '-', '-', '-', '-'], ['-', '-', '-', '-', '-', '-', '-', '-', 'x', 'x', '-', '-', '-'], ['-', '-', '-', '-', '-', '-', '-', '-', '-', '-', '-', '-', '-']]\n",
      "[0, 3, 3, 3, 3, 1, 1, 1, 2, 2, 2, 1, 1, 3, 3, 3, 3, 3, 3, 1, 1, 2, 2, 2, 2, 0, 0, 0, 3, 3, 1, 2, 2, 2, 2, 0, 0, 0]\n",
      "33\n"
     ]
    },
    {
     "data": {
      "text/plain": [
       "False"
      ]
     },
     "execution_count": 6,
     "metadata": {},
     "output_type": "execute_result"
    }
   ],
   "source": [
    "# test block, you may need to modify this block.\n",
    "test_case = 4\n",
    "with open(f'test_cases/problem3/{test_case}-map.txt', 'r') as f:\n",
    "    game_map = [list(line.strip()) for line in f.readlines()]\n",
    "print(game_map)\n",
    "choice=[]\n",
    "for i in range(len(game_map)):\n",
    "    choice.append([])\n",
    "    for j in range(len(game_map[0])):\n",
    "        if(game_map[i][j]=='#'):\n",
    "            choice[len(choice)-1].append(0)\n",
    "        else:\n",
    "            choice[len(choice)-1].append(1)\n",
    "with open(f'./test_cases/problem3/{test_case}-actions.txt', 'r') as f:\n",
    "    actions = [*map(int, f.read().split(' '))]\n",
    "print(actions)\n",
    "snake=findsnake(game_map,choice)\n",
    "play(game_map,actions,snake)\n",
    "    "
   ]
  }
 ],
 "metadata": {
  "kernelspec": {
   "display_name": "Python 3",
   "language": "python",
   "name": "python3"
  },
  "language_info": {
   "codemirror_mode": {
    "name": "ipython",
    "version": 3
   },
   "file_extension": ".py",
   "mimetype": "text/x-python",
   "name": "python",
   "nbconvert_exporter": "python",
   "pygments_lexer": "ipython3",
   "version": "3.10.6"
  },
  "vscode": {
   "interpreter": {
    "hash": "2469a70536e4d2335a2ea8907942d0699c37342a371ac185bdb5b0aa6f073890"
   }
  }
 },
 "nbformat": 4,
 "nbformat_minor": 1
}
