{
 "cells": [
  {
   "cell_type": "code",
   "execution_count": 45,
   "id": "4afb24f8",
   "metadata": {
    "pycharm": {
     "name": ""
    }
   },
   "outputs": [],
   "source": [
    "# Look The Note Below!!!\n",
    "\n",
    "import numpy as np\n",
    "import time\n",
    "import copy\n",
    "import queue\n",
    "\n",
    "N = 16 # You should change the test size here !!!\n",
    "\n",
    "def my_range(start, end):\n",
    "    if start <= end:\n",
    "        return range(start, end + 1)\n",
    "    else:\n",
    "        return range(start, end - 1, -1)\n",
    "\n",
    "\n",
    "class Problem:\n",
    "    char_mapping = ('·', 'Q')\n",
    "\n",
    "    def __init__(self, n=4):\n",
    "        self.n = n\n",
    "\n",
    "    def is_valid(self, state):\n",
    "        \"\"\"\n",
    "        check the state satisfy condition or not.\n",
    "        :param state: list of points (in (row id, col id) tuple form)\n",
    "        :return: bool value of valid or not\n",
    "        \"\"\"\n",
    "        board = self.get_board(state)\n",
    "        res = True\n",
    "        for point in state:\n",
    "            i, j = point\n",
    "            condition1 = board[:, j].sum() <= 1\n",
    "            condition2 = board[i, :].sum() <= 1\n",
    "            condition3 = self.pos_slant_condition(board, point)\n",
    "            condition4 = self.neg_slant_condition(board, point)\n",
    "            res = res and condition1 and condition2 and condition3 and condition4\n",
    "            if not res:\n",
    "                break\n",
    "        return res\n",
    "\n",
    "    def is_satisfy(self, state):\n",
    "        return self.is_valid(state) and len(state) == self.n\n",
    "\n",
    "    def pos_slant_condition(self, board, point):\n",
    "        i, j = point\n",
    "        tmp = min(self.n - i - 1, j)\n",
    "        start = (i + tmp, j - tmp)\n",
    "        tmp = min(i, self.n - j - 1)\n",
    "        end = (i - tmp,  j + tmp)\n",
    "        rows = my_range(start[0], end[0])\n",
    "        cols = my_range(start[1], end[1])\n",
    "        return board[rows, cols].sum() <= 1\n",
    "\n",
    "    def neg_slant_condition(self, board, point):\n",
    "        i, j = point\n",
    "        tmp = min(i, j)\n",
    "        start = (i - tmp, j - tmp)\n",
    "        tmp = min(self.n - i - 1, self.n - j - 1)\n",
    "        end = (i + tmp, j + tmp)\n",
    "        rows = my_range(start[0], end[0])\n",
    "        cols = my_range(start[1], end[1])\n",
    "        return board[rows, cols].sum() <= 1\n",
    "\n",
    "    def get_board(self, state):\n",
    "        board = np.zeros([self.n, self.n], dtype=int)\n",
    "        for point in state:\n",
    "            board[point] = 1\n",
    "        return board\n",
    "\n",
    "    def print_state(self, state):\n",
    "        board = self.get_board(state)\n",
    "        print('_' * (2 * self.n + 1))\n",
    "        for row in board:\n",
    "            for item in row:\n",
    "                print(f'|{Problem.char_mapping[item]}', end='')\n",
    "            print('|')\n",
    "        print('-' * (2 * self.n + 1))"
   ]
  },
  {
   "cell_type": "markdown",
   "id": "a7793fb8",
   "metadata": {
    "notebookRunGroups": {
     "groupValue": ""
    }
   },
   "source": [
    "# Read the note First ! ! !\n",
    "#### In all the code above, only two of the function usages are needed. One is is_valid(self, state), which is to determine if the current state is legal; the other is is_satisfy(self, state), which is to determine if the current board meets the win condition. \n",
    "#### The type of state is [], which stores the tuples(a, b), representing the positions of the queens in it.\n",
    "#### In the first line of the code you can see N = 5, this is the size of the test.\n",
    "#### Then in the test_block that follows, render indicates whether to use a graphical interface representation, and then method indicates which bts are used(bts or improving_bts).\n",
    "\n",
    "### Request 1: You should complete the function bts(problem). \n",
    "You can only use iterative way, not recursive. Using recursion will incur a **20% penalty**. And you can add any function you want. (**DDL: 3.31**)\n",
    "### Request 2: You should complete the function improving_bts(problem). \n",
    "You can select one or more methods of the three methods below(Minimum Remaining Value, Least constraining value, Forward checking), but you should have a good performance **when N = 16 without GUI**. (**DDL: 4.07**)"
   ]
  },
  {
   "cell_type": "markdown",
   "id": "a48f87d8",
   "metadata": {
    "pycharm": {
     "name": "#%% md\n"
    }
   },
   "source": [
    "# BTS: Backtracking search (Request 1, DDL: 3.31)"
   ]
  },
  {
   "cell_type": "code",
   "execution_count": 32,
   "id": "1f9e8ac1",
   "metadata": {
    "pycharm": {
     "name": "#%%\n"
    }
   },
   "outputs": [],
   "source": [
    "def bts(problem):\n",
    "    action_stack = []\n",
    "    if N >=4:\n",
    "        while not problem.is_satisfy(action_stack):\n",
    "          row = 0\n",
    "          col = 0\n",
    "          while row < N:\n",
    "             while col < N:\n",
    "                action_stack.append((row,col))\n",
    "                if problem.is_valid(action_stack):\n",
    "                    row=row+1\n",
    "                    col=0\n",
    "                    break\n",
    "                else:\n",
    "                    action_stack.pop()\n",
    "                    col=col+1\n",
    "                while col == N:\n",
    "                    row=-1\n",
    "                    last=action_stack.pop()\n",
    "                    col=last[1]+1\n",
    "    yield action_stack\n",
    "        # You can know what yield means in CSDN~"
   ]
  },
  {
   "cell_type": "markdown",
   "id": "f925203f",
   "metadata": {
    "pycharm": {
     "name": "#%% md\n"
    }
   },
   "source": [
    "# Improving BTS To DO (Request 2, DDL: 4.07)\n",
    "* Which variable should be assigned next?\n",
    "* In what order should its values be tried?\n",
    "* Can we detect inevitable failure early?\n",
    "\n",
    "### Minimum Remaining Value\n",
    "Choose the variable with the fewest legal values in its domain\n",
    "### Least constraining value\n",
    "Given a variable, choose the least constraining value: the one that rules out the fewest values in the remaining variables\n",
    "### Forward checking\n",
    "Keep track of remaining legal values for the unassigned variables. Terminate when any variable has no legal values."
   ]
  },
  {
   "cell_type": "code",
   "execution_count": 71,
   "id": "8f840339",
   "metadata": {
    "pycharm": {
     "name": "#%%\n"
    }
   },
   "outputs": [],
   "source": [
    "def improving_bts(problem):\n",
    "    remain = []\n",
    "    action = []\n",
    "    picked = []\n",
    "    for i in range(N):\n",
    "        temp = []\n",
    "        for j in range(N):\n",
    "            temp.append((i, j))\n",
    "        remain.append(temp)\n",
    "    if N >= 4:\n",
    "        remain_stack = []\n",
    "        next = 0\n",
    "        action_stack = next_state(remain , next)\n",
    "        action_stack.reverse()\n",
    "        for p in action_stack:\n",
    "            action.append(p)\n",
    "            n_remain = copy.deepcopy(remain)\n",
    "            remain_stack.append(valid_pos(action, n_remain))\n",
    "            action.pop()\n",
    "        while True:\n",
    "            action.append(action_stack.pop())\n",
    "            remain = remain_stack.pop()\n",
    "            picked.append(next)\n",
    "            min = 0\n",
    "            for r in range(N):\n",
    "                if (len(remain[r]) < len(remain[min]) and len(remain[r]) != 0 or len(\n",
    "                        remain[min]) == 0 and min != r) and r not in picked:\n",
    "                    min = r\n",
    "            next = min\n",
    "            if len(next_state(remain, next)) == 0:\n",
    "                if len(picked) == N:\n",
    "                    break\n",
    "                else:\n",
    "                    next = 0\n",
    "                    action.clear()\n",
    "                    picked.clear()\n",
    "            for p in next_state(remain, next):\n",
    "                action_stack.append(p)\n",
    "                action.append(p)\n",
    "                n_remain = copy.deepcopy(remain)\n",
    "                remain_stack.append(valid_pos(action, n_remain))\n",
    "                action.pop()\n",
    "    yield action\n",
    "\n",
    "\n",
    "def next_state(remain, next):\n",
    "    pos = []\n",
    "    c = N * N\n",
    "    action = []\n",
    "    for t in remain[next]:\n",
    "        action.append(t)\n",
    "        cop = copy.deepcopy(remain)\n",
    "        cost = constraint(action, cop)\n",
    "        if c > cost:\n",
    "            c = cost\n",
    "        action.pop()\n",
    "    for t in remain[next]:\n",
    "        action.append(t)\n",
    "        cop = copy.deepcopy(remain)\n",
    "        if c == constraint(action, cop):\n",
    "            pos.append(t)\n",
    "        action.pop()\n",
    "    return pos\n",
    "\n",
    "\n",
    "def valid_pos(action, remain):\n",
    "    delet_remain = []\n",
    "    row = 0\n",
    "    a = action[-1]\n",
    "    while row < N:\n",
    "        temp = []\n",
    "        for r in remain[row]:\n",
    "            if a[0] == r[0] or a[1] == r[1] or abs(r[0] - a[0]) == abs(a[1] - r[1]):\n",
    "                temp.append(r)\n",
    "        delet_remain.append(temp)\n",
    "        row = row + 1\n",
    "    for row in range(N):\n",
    "        for r in delet_remain[row]:\n",
    "            remain[row].remove(r)\n",
    "    return remain\n",
    "\n",
    "\n",
    "def constraint(action, remain):\n",
    "    num1 = 0\n",
    "    num2 = 0\n",
    "    for r1 in remain:\n",
    "        num1 += len(r1)\n",
    "    for r2 in valid_pos(action, remain):\n",
    "        num2 += len(r2)\n",
    "    return num1 - num2\n",
    "\n",
    "\n"
   ]
  },
  {
   "cell_type": "code",
   "execution_count": 72,
   "id": "93d2cb99",
   "metadata": {
    "pycharm": {
     "name": "#%%\n"
    }
   },
   "outputs": [
    {
     "name": "stdout",
     "output_type": "stream",
     "text": [
      "_________________________________\n",
      "|·|·|·|·|·|·|Q|·|·|·|·|·|·|·|·|·|\n",
      "|·|·|·|·|·|·|·|·|·|·|·|·|·|·|·|Q|\n",
      "|·|·|·|·|·|·|·|·|·|·|·|·|Q|·|·|·|\n",
      "|·|Q|·|·|·|·|·|·|·|·|·|·|·|·|·|·|\n",
      "|·|·|·|·|·|·|·|·|Q|·|·|·|·|·|·|·|\n",
      "|·|·|·|·|·|Q|·|·|·|·|·|·|·|·|·|·|\n",
      "|·|·|Q|·|·|·|·|·|·|·|·|·|·|·|·|·|\n",
      "|Q|·|·|·|·|·|·|·|·|·|·|·|·|·|·|·|\n",
      "|·|·|·|·|·|·|·|·|·|Q|·|·|·|·|·|·|\n",
      "|·|·|·|·|Q|·|·|·|·|·|·|·|·|·|·|·|\n",
      "|·|·|·|·|·|·|·|·|·|·|·|·|·|Q|·|·|\n",
      "|·|·|·|·|·|·|·|·|·|·|Q|·|·|·|·|·|\n",
      "|·|·|·|·|·|·|·|·|·|·|·|·|·|·|Q|·|\n",
      "|·|·|·|·|·|·|·|Q|·|·|·|·|·|·|·|·|\n",
      "|·|·|·|·|·|·|·|·|·|·|·|Q|·|·|·|·|\n",
      "|·|·|·|Q|·|·|·|·|·|·|·|·|·|·|·|·|\n",
      "---------------------------------\n",
      "3.321998119354248\n"
     ]
    }
   ],
   "source": [
    "\n",
    "# test_block\n",
    "n = N # Do not modify this parameter, if you want to change the size, go to the first line of whole program.\n",
    "render = False # here to select GUI or not\n",
    "method = improving_bts  # here to change your method; bts or improving_bts\n",
    "p = Problem(n)\n",
    "if render:\n",
    "    import pygame\n",
    "    w, h = 90 * n + 10, 90 * n + 10\n",
    "    screen = pygame.display.set_mode((w, h))\n",
    "    screen.fill('white')\n",
    "    action_generator = method(p)\n",
    "    clk = pygame.time.Clock()\n",
    "    queen_img = pygame.image.load('./queen.png')\n",
    "    while True:\n",
    "        for event in pygame.event.get():\n",
    "            if event == pygame.QUIT:\n",
    "                exit()\n",
    "        try:\n",
    "            actions = next(action_generator)\n",
    "            screen.fill('white')\n",
    "            for i in range(n + 1):\n",
    "                pygame.draw.rect(screen, 'black', (i * 90, 0, 10, h))\n",
    "                pygame.draw.rect(screen, 'black', (0, i * 90, w, 10))\n",
    "            for action in actions:\n",
    "                i, j = action\n",
    "                screen.blit(queen_img, (10 + 90 * j, 10 + 90 * i))\n",
    "            pygame.display.flip()\n",
    "        except StopIteration:\n",
    "            pass\n",
    "        clk.tick(5)\n",
    "    pass\n",
    "else:\n",
    "    start_time = time.time()\n",
    "    for actions in method(p):\n",
    "        pass\n",
    "    p.print_state(actions)\n",
    "    print(time.time() - start_time)\n"
   ]
  }
 ],
 "metadata": {
  "kernelspec": {
   "display_name": "Python 3 (ipykernel)",
   "language": "python",
   "name": "python3"
  },
  "language_info": {
   "codemirror_mode": {
    "name": "ipython",
    "version": 3
   },
   "file_extension": ".py",
   "mimetype": "text/x-python",
   "name": "python",
   "nbconvert_exporter": "python",
   "pygments_lexer": "ipython3",
   "version": "3.10.6"
  },
  "vscode": {
   "interpreter": {
    "hash": "926f4f342ff63d6917febbc2bc9703c023cf68cb3238c08e97a18f644493fddf"
   }
  }
 },
 "nbformat": 4,
 "nbformat_minor": 5
}
